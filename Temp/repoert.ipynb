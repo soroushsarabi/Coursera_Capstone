{
 "cells": [
  {
   "cell_type": "markdown",
   "metadata": {},
   "source": [
    "<img src='https://thecplawgroup.com/wp-content/uploads/2017/09/Car-Accidents-in-Fog.jpg' />"
   ]
  },
  {
   "cell_type": "markdown",
   "metadata": {},
   "source": [
    "# Introduction"
   ]
  },
  {
   "cell_type": "markdown",
   "metadata": {},
   "source": [
    "## Business Understanding"
   ]
  },
  {
   "cell_type": "markdown",
   "metadata": {},
   "source": [
    "<p>The U.S. Department of Transportation (DOT) said more than 5.8 million vehicle crashes occur each year based on statistics from 2007 to 2016. About 21 percent of those, or just over 1.2 million, involved hazardous weather.\n",
    "Those U.S. weather-related automobile crashes have killed an average of 5,376 people annually, accounting for about 16 percent of all vehicular deaths, the DOT said. More than 418,000 others were injured each year during that same period.\n",
    "<br/>\n",
    "For comparison, the 10-year average combined number of deaths each year from flooding, lightning, tornadoes, hurricanes and heat is 379.\n",
    "<p>"
   ]
  },
  {
   "cell_type": "markdown",
   "metadata": {},
   "source": [
    "<p align='left'>\n",
    "<figure>\n",
    "  <img src=\"table1.jpg\"  style=\"width:75%\">\n",
    "  <figcaption>Table: Weather-Related Crash Statistics (Annual Averages) <br/> \n",
    "    https://ops.fhwa.dot.gov/weather/q1_roadimpact.htm\n",
    "      <br/>\n",
    "      By crash type (not shown in above table) for an average year, roughly 15% of fatal crashes, 19% of injury crashes, and 22% of property-damage-only (PDO) crashes occur in the presence of adverse weather and/or slick pavement. That is on an annual basis, nearly 4,900 fatal crashes, over 301,100 injury crashes and nearly 919,700 PDO crashes occur in adverse weather or on slick pavement. (Source: Ten-year averages from 2007 to 2016 analyzed by Booz Allen Hamilton, based on NHTSA data).\n",
    "    </figcaption>\n",
    "</figure>\n",
    "</p>"
   ]
  },
  {
   "cell_type": "markdown",
   "metadata": {},
   "source": [
    "<p>\n",
    "    <br/>\n",
    "    \n",
    "</p>"
   ]
  }
 ],
 "metadata": {
  "kernelspec": {
   "display_name": "Python 3.7.6 64-bit (conda)",
   "language": "python",
   "name": "python37664bitconda22f26f5ecb9844f5908cbf01e5502857"
  },
  "language_info": {
   "codemirror_mode": {
    "name": "ipython",
    "version": 3
   },
   "file_extension": ".py",
   "mimetype": "text/x-python",
   "name": "python",
   "nbconvert_exporter": "python",
   "pygments_lexer": "ipython3",
   "version": "3.7.6"
  }
 },
 "nbformat": 4,
 "nbformat_minor": 2
}
