{
 "cells": [
  {
   "cell_type": "markdown",
   "metadata": {},
   "source": [
    "<img src='cover.jpg' />"
   ]
  },
  {
   "cell_type": "markdown",
   "metadata": {},
   "source": [
    "# Introduction"
   ]
  },
  {
   "cell_type": "markdown",
   "metadata": {},
   "source": [
    "## Business Understanding"
   ]
  },
  {
   "cell_type": "markdown",
   "metadata": {},
   "source": [
    "<p>The U.S. Department of Transportation (DOT) said more than 5.8 million vehicle crashes occur each year based on statistics from 2007 to 2016. About 21 percent of those, or just over 1.2 million, involved hazardous weather.\n",
    "Those U.S. weather-related automobile crashes have killed an average of 5,376 people annually, accounting for about 16 percent of all vehicular deaths, the DOT said. More than 418,000 others were injured each year during that same period.\n",
    "<br/>\n",
    "For comparison, the 10-year average combined number of deaths each year from flooding, lightning, tornadoes, hurricanes and heat is 379.\n",
    "<p>"
   ]
  },
  {
   "cell_type": "markdown",
   "metadata": {},
   "source": [
    "<p align='left' style=\"font-size: smaller;\">\n",
    "  <img src=\"table1.jpg\"  style=\"width:75%\"/>\n",
    "  Table: Weather-Related Crash Statistics (Annual Averages) <br/> \n",
    "    https://ops.fhwa.dot.gov/weather/q1_roadimpact.htm\n",
    "      <br/>\n",
    "      By crash type (not shown in above table) for an average year, roughly 15% of fatal crashes, 19% of injury crashes, and 22% of property-damage-only (PDO) crashes occur in the presence of adverse weather and/or slick pavement. That is on an annual basis, nearly 4,900 fatal crashes, over 301,100 injury crashes and nearly 919,700 PDO crashes occur in adverse weather or on slick pavement. (Source: Ten-year averages from 2007 to 2016 analyzed by Booz Allen Hamilton, based on NHTSA data).\n",
    "</p>"
   ]
  },
  {
   "cell_type": "markdown",
   "metadata": {},
   "source": [
    "### Problem"
   ]
  },
  {
   "cell_type": "markdown",
   "metadata": {},
   "source": [
    "<p>\n",
    "looking at this data will showing us a big problem. Many people are dying or injured on the roads because of bad weather. Roads weather such as fog, snow, and rain, all of which are leading causes of bad weather accidents.\n",
    "These are happening because people can not predicate accident risks according to the changing weather conditions. Suppose there is an application to alerting the probability of accidents and their severity. In that case, they might change their decision to travel or choose a substitution road.\n",
    "This project will use previous accident data and dependent weather conditions in the roads of Seattle city to design a model to predict an accident's probability and severity according to the bad weather conditions.\n",
    "</p>"
   ]
  },
  {
   "cell_type": "markdown",
   "metadata": {},
   "source": [
    "### Data"
   ]
  },
  {
   "cell_type": "markdown",
   "metadata": {},
   "source": [
    "<p>\n",
    "    For this project, we used 194,674 accidents from 2004 to 2020 in the Seattle city area from the Seattle Open Data dataset. The dataset contains 26 columns describing each incident's details, including the weather conditions, collision type, date/time of the accident, and location (latitude and longitude).   \n",
    "This dataset contains various columns. Some of them are sufficient for model designing. Columns \"SEVERITYCODE\", \"ADDRTYPE\" , \"PERSONCOUNT\", \"INCDTTM\" ,\"WEATHER\" ,\"ROADCOND\" ,\"LIGHTCOND\" ,\"UNDERINFL\"  will be used as factors that play role in the accidents.\n",
    "</p>\n",
    "<p>\n",
    "    \n",
    "Columns description:<br/>\n",
    "SEVERITYCODE: A code that corresponds to the severity of the collision.<br/>\n",
    "ADDRTYPE: Location type.<br/>\n",
    "PERSONCOUNT: The total number of people involved in the collision.<br/>\n",
    "INCDTTM: The date and time of the incident.<br/>\n",
    "WEATHER: A description of the weather conditions during the time of the collision.<br/>\n",
    "ROADCOND: The condition of the road during the collision.<br/>\n",
    "LIGHTCOND: The light conditions during the collision.<br/>\n",
    "UNDERINFL: Whether or not a driver involved was under the influence of drugs or alcohol.<br/>\n",
    "    <br/>\n",
    "In its original form, the dataset is not ready for analysis. For example, there are many columns that we will not use for this model or most of the features are of type object, when they should be numerical type. The dataset in some columns contains Null and Unknown values that should be checked. Many pre-processing tasks may need to run on the dataset. For instance, We must use label encoding to covert the features to our desired data type.\n",
    "    </p>"
   ]
  },
  {
   "cell_type": "markdown",
   "metadata": {},
   "source": [
    "## Data Understanding"
   ]
  },
  {
   "cell_type": "markdown",
   "metadata": {},
   "source": [
    "For this problem, we need to focus on the Severity. Severity, including 1-5 code to show incident severity.\n",
    "We know that there is 6 column in our solution that we will use them as independent parameters. \n",
    "So we need to do some cleaning and data preprocessing as a data wrangling phase.\n",
    "<br/>\n",
    "<p>\n",
    "<img src='table2.jpg' align='left'>\n",
    "\n",
    "<img src='list1.jpg' align='left'>\n",
    "</p>"
   ]
  },
  {
   "cell_type": "markdown",
   "metadata": {},
   "source": [
    "As the data have shown, we faced the different string values that described each column's status. Additionally, there is some unknown value that should be solved. Also, we need to categorize the string values into the integer values for use in the machine learning model as parameters."
   ]
  },
  {
   "cell_type": "markdown",
   "metadata": {},
   "source": [
    "### Data Wrangling\n",
    "\n",
    "in this phase, we have three missions:\n",
    "\n",
    "-   Handle missing values\n",
    "-   Correct data format and categorize \n",
    "-   Standardize and Normalize Data"
   ]
  },
  {
   "cell_type": "markdown",
   "metadata": {},
   "source": [
    "For handling missing value and making a better decision, we use visualization to compare rows with missing value against rows that have valid values."
   ]
  },
  {
   "cell_type": "markdown",
   "metadata": {},
   "source": [
    "<img src='plot01.jpg' align='left' />"
   ]
  },
  {
   "cell_type": "markdown",
   "metadata": {},
   "source": [
    "#### How to deal with missing data?\n",
    "\n",
    "As the plot is showing, five columns have some null values. In these columns, the rate of null values is minimal. And also, these null values are placed in the critical parameters. So the best strategy is, delete rows that have a null value."
   ]
  },
  {
   "cell_type": "markdown",
   "metadata": {},
   "source": [
    "<img src='list2.jpg' align='left' />"
   ]
  },
  {
   "cell_type": "markdown",
   "metadata": {},
   "source": [
    "Now our dataset hasn't any missing value."
   ]
  },
  {
   "cell_type": "markdown",
   "metadata": {},
   "source": [
    "### LabelEncoder\n",
    "\n",
    "In the next step, we need to convert columns string values to the integer type.\n",
    "For this purpose, we are using Label Encoding. This approach is straightforward, and it involves converting each value in a column to a number.\n",
    "For doing this, there are different ways. In this project, we use SciKit learn library, a common approach that many data analysts perform label-encoding.\n",
    "<p>\n",
    "<br/>\n",
    "from sklearn.preprocessing import LabelEncoder\n",
    "<br/>\n",
    "labelencoder = LabelEncoder()\n",
    "<br/>\n",
    "labelencoder.fit_transform()\n",
    "</p>"
   ]
  },
  {
   "cell_type": "markdown",
   "metadata": {},
   "source": [
    "<img src='table3.jpg' align='left' />"
   ]
  },
  {
   "cell_type": "markdown",
   "metadata": {},
   "source": [
    "Statistics are showing that, on the weekends, road trips will be increasing meaningfully. So we can look at the date of the incident as an important parameter."
   ]
  },
  {
   "cell_type": "markdown",
   "metadata": {},
   "source": [
    "<img src='table4.jpg' align='left' />"
   ]
  },
  {
   "cell_type": "markdown",
   "metadata": {},
   "source": [
    "### The Problem with Imbalanced Classes\n",
    "Most machine learning algorithms work best when the number of samples in each class are about equal. This is because most algorithms are designed to maximize accuracy and reduce errors; our data shows that our Y values are unbalanced.\n",
    "<img src='plot02.jpg' />"
   ]
  },
  {
   "cell_type": "markdown",
   "metadata": {},
   "source": [
    "For solving this problem, we using Down-sampling"
   ]
  },
  {
   "cell_type": "markdown",
   "metadata": {},
   "source": [
    "#### Down-sample Majority Class\n",
    "Down-sampling involves randomly removing observations from the majority class to prevent its signal from dominating the learning algorithm.\n",
    "The most common heuristic for doing so is resampling without replacement.\n",
    "\n",
    "SciKit learn library has great tools for solving data Imbalancing.\n",
    "\n",
    "from sklearn.utils import resample\n",
    "\n",
    "<img src='plot03.jpg' />\n",
    "<img src='table05.jpg' />"
   ]
  },
  {
   "cell_type": "markdown",
   "metadata": {},
   "source": [
    "## Methodology\n",
    "\n",
    "Our data is now ready to be fed into machine learning models. For selecting the best method for building our model, we need to determine our data structure.\n",
    "As shown, our data is classified as classes value 1,2. \n",
    "So the best solution to design our model is any Classification approach.\n",
    "<br />\n",
    "So we use the following models:"
   ]
  },
  {
   "cell_type": "markdown",
   "metadata": {},
   "source": [
    "### K-Nearest Neighbor (KNN)\n",
    "We can use KNN to predict an outcome's severity by finding the most similar data point within k distance."
   ]
  },
  {
   "cell_type": "markdown",
   "metadata": {},
   "source": [
    "### Decision Tree\n",
    "<p>\n",
    "A decision tree model gives us a layout of all possible outcomes to thoroughly analyze the consequences of a decision.\n",
    "Its context, the decision tree, observes all possible results of different weather conditions.\n",
    "    </p>"
   ]
  },
  {
   "cell_type": "markdown",
   "metadata": {},
   "source": [
    "### Logistic Regression\n",
    "\n",
    "As our dataset contains only two severity code outcomes, our model will only predict one of those two classes. This type of dataset makes our data binary, which is excellent to use with logistic-regression."
   ]
  },
  {
   "cell_type": "markdown",
   "metadata": {},
   "source": [
    "The first step for starting model design is initializing."
   ]
  },
  {
   "cell_type": "markdown",
   "metadata": {},
   "source": [
    "#### Initialization\n",
    "\n",
    "We need to define X and Y , and also training and testing sets.\n",
    "\n",
    "<img src='plot04.jpg' />"
   ]
  },
  {
   "cell_type": "markdown",
   "metadata": {},
   "source": [
    "\n",
    "After designing the training set and testing, in the next step, we define models, and with the Fit() method makes learning, and at the end, we predict new values.\n",
    "<img src='plot05.jpg' align='left' />"
   ]
  },
  {
   "cell_type": "markdown",
   "metadata": {},
   "source": [
    "### Results And Evaluation"
   ]
  },
  {
   "cell_type": "markdown",
   "metadata": {},
   "source": [
    "For evaluation we using F1 Score"
   ]
  },
  {
   "cell_type": "markdown",
   "metadata": {},
   "source": [
    "For KNN we find best result with n=35\n",
    "<img src='plot06.jpg' align='left' />"
   ]
  },
  {
   "cell_type": "markdown",
   "metadata": {},
   "source": [
    "For decision tree classifier with depth=10\n",
    "<img src='plot07.jpg' align='left' />"
   ]
  },
  {
   "cell_type": "markdown",
   "metadata": {},
   "source": [
    "For logistic regression with C=10\n",
    "<img src='plot08.jpg' align='left' />"
   ]
  },
  {
   "cell_type": "markdown",
   "metadata": {},
   "source": [
    "## Discussion\n",
    "\n",
    "At the start of this notebook, we had categorical data of type 'object.' with missing values in some columns. So this type of dataset is not a data character that is not acceptable to feed through machine learning. More than label encoding, we handle missing values used to create new classes of an integer value as a numerical data type.\n",
    "After fixing those issues, we faced a different problem, imbalanced data. \n",
    "As showing earlier visually, class 1 was more massive than class 2. The way to fix this was down-sampling the majority class with the Scikit-Learn library resample tool. For this dataset, we down-sampling to match the minority class correctly with 56883 values each.\n",
    "After data analyzed and cleaned, it was ready to feed through three ML models; K-Nearest Neighbor, Decision Tree, and Logistic Regression. Although the first two are perfect for this project, logistic regression makes better results because of its binary nature.\n",
    "We used the evaluation metric to test our model's accuracy is the f-1 score, and log loss for logistic regression, by choosing different k, max depth, and C values to improve our accuracy to achieve the best result."
   ]
  },
  {
   "cell_type": "markdown",
   "metadata": {},
   "source": [
    "## Conclusion\n",
    "\n",
    "Based on past data from the incident dataset, we can point to multi-parameters, such as weather conditions or road conditions, to the individual classes. We can conclude that particular weather conditions somewhat impact whether travel could result in property damage (class 1) or injury (class 2). This project will use previous accident data and dependent weather conditions on the roads of Seattle to shows that it's possible to design a model to predict an accident's probability and severity according to the terrible weather conditions besides the other accident parameters."
   ]
  },
  {
   "cell_type": "code",
   "execution_count": null,
   "metadata": {},
   "outputs": [],
   "source": []
  }
 ],
 "metadata": {
  "kernelspec": {
   "display_name": "Python 3",
   "language": "python",
   "name": "python3"
  },
  "language_info": {
   "codemirror_mode": {
    "name": "ipython",
    "version": 3
   },
   "file_extension": ".py",
   "mimetype": "text/x-python",
   "name": "python",
   "nbconvert_exporter": "python",
   "pygments_lexer": "ipython3",
   "version": "3.6.6"
  }
 },
 "nbformat": 4,
 "nbformat_minor": 2
}
